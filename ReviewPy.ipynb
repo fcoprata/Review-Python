{
 "cells": [
  {
   "cell_type": "markdown",
   "id": "6432081c",
   "metadata": {},
   "source": [
    "<a id='another_cell'></a>\n",
    "# Súmario\n",
    "* [Listas](#Listas)\n",
    "* [Tuplas](#Tuplas)\n",
    "* [Dicionários](#Dict)\n",
    "* [Funções](#func)\n"
   ]
  },
  {
   "cell_type": "markdown",
   "id": "53f820ad",
   "metadata": {},
   "source": [
    "<a id='Listas'></a>\n",
    "# Listas\n",
    "* Ordenada\n",
    "* Mutável\n",
    "* Vários tipos de dados"
   ]
  },
  {
   "cell_type": "code",
   "execution_count": 38,
   "id": "af71f918",
   "metadata": {},
   "outputs": [],
   "source": [
    "#como criar uma lista vazia\n",
    "lista = []\n",
    "lista = list()"
   ]
  },
  {
   "cell_type": "code",
   "execution_count": 39,
   "id": "7442180a",
   "metadata": {},
   "outputs": [],
   "source": [
    "#criando lista\n",
    "pokemon = ['Squirtle','Charmander','Bulbasaur']"
   ]
  },
  {
   "cell_type": "markdown",
   "id": "fece722a",
   "metadata": {},
   "source": [
    "Conferindo a lista:"
   ]
  },
  {
   "cell_type": "code",
   "execution_count": 40,
   "id": "a030b3d5",
   "metadata": {},
   "outputs": [
    {
     "data": {
      "text/plain": [
       "'Squirtle'"
      ]
     },
     "execution_count": 40,
     "metadata": {},
     "output_type": "execute_result"
    }
   ],
   "source": [
    "#printando um elemento\n",
    "pokemon[0]"
   ]
  },
  {
   "cell_type": "code",
   "execution_count": 41,
   "id": "7ebfb53b",
   "metadata": {},
   "outputs": [
    {
     "data": {
      "text/plain": [
       "3"
      ]
     },
     "execution_count": 41,
     "metadata": {},
     "output_type": "execute_result"
    }
   ],
   "source": [
    "len(pokemon)"
   ]
  },
  {
   "cell_type": "markdown",
   "id": "ee97e95b",
   "metadata": {},
   "source": [
    "Modificando a lista:"
   ]
  },
  {
   "cell_type": "code",
   "execution_count": 42,
   "id": "c92ae86e",
   "metadata": {},
   "outputs": [
    {
     "data": {
      "text/plain": [
       "['Squirtle', 'Charmander', 'Bulbasaur', 'Caterpie']"
      ]
     },
     "execution_count": 42,
     "metadata": {},
     "output_type": "execute_result"
    }
   ],
   "source": [
    "#incluindo elementos na lista\n",
    "pokemon.append(\"Caterpie\")\n",
    "pokemon"
   ]
  },
  {
   "cell_type": "code",
   "execution_count": 43,
   "id": "49ccdd6a",
   "metadata": {},
   "outputs": [
    {
     "data": {
      "text/plain": [
       "['Squirtle', 'Charmander', 'Bulbasaur', 'Caterpie', 'Pikachu', 'Rattata']"
      ]
     },
     "execution_count": 43,
     "metadata": {},
     "output_type": "execute_result"
    }
   ],
   "source": [
    "#incluindo mais de um elemento\n",
    "pokemon.extend(['Pikachu','Rattata'])\n",
    "pokemon"
   ]
  },
  {
   "cell_type": "code",
   "execution_count": 44,
   "id": "68941d18",
   "metadata": {},
   "outputs": [
    {
     "data": {
      "text/plain": [
       "['Pidgey',\n",
       " 'Squirtle',\n",
       " 'Charmander',\n",
       " 'Bulbasaur',\n",
       " 'Caterpie',\n",
       " 'Pikachu',\n",
       " 'Rattata']"
      ]
     },
     "execution_count": 44,
     "metadata": {},
     "output_type": "execute_result"
    }
   ],
   "source": [
    "#incluindo elementos em local especifico\n",
    "pokemon.insert(0,'Pidgey')\n",
    "pokemon"
   ]
  },
  {
   "cell_type": "code",
   "execution_count": 45,
   "id": "88db1f50",
   "metadata": {},
   "outputs": [
    {
     "data": {
      "text/plain": [
       "['Squirtle', 'Charmander', 'Bulbasaur', 'Caterpie', 'Pikachu', 'Rattata']"
      ]
     },
     "execution_count": 45,
     "metadata": {},
     "output_type": "execute_result"
    }
   ],
   "source": [
    "#removendo elemento especificado\n",
    "pokemon.remove(\"Pidgey\")\n",
    "pokemon"
   ]
  },
  {
   "cell_type": "code",
   "execution_count": 46,
   "id": "dc1ff7ca",
   "metadata": {},
   "outputs": [
    {
     "data": {
      "text/plain": [
       "'Squirtle'"
      ]
     },
     "execution_count": 46,
     "metadata": {},
     "output_type": "execute_result"
    }
   ],
   "source": [
    "#removendo elemento e retornando ele\n",
    "pokemon.pop(0)"
   ]
  },
  {
   "cell_type": "code",
   "execution_count": 47,
   "id": "066d205d",
   "metadata": {},
   "outputs": [
    {
     "data": {
      "text/plain": [
       "['Bulbasaur', 'Caterpie', 'Pikachu', 'Rattata']"
      ]
     },
     "execution_count": 47,
     "metadata": {},
     "output_type": "execute_result"
    }
   ],
   "source": [
    "#removendo elemento e retornando lista \n",
    "del pokemon[0]\n",
    "pokemon"
   ]
  },
  {
   "cell_type": "code",
   "execution_count": 48,
   "id": "9909f7d0",
   "metadata": {},
   "outputs": [
    {
     "data": {
      "text/plain": [
       "['Bulbasaur', 'Caterpie', 'Pikachu', 'Meowth']"
      ]
     },
     "execution_count": 48,
     "metadata": {},
     "output_type": "execute_result"
    }
   ],
   "source": [
    "#trocando elemento\n",
    "pokemon[3] = \"Meowth\"\n",
    "pokemon"
   ]
  },
  {
   "cell_type": "code",
   "execution_count": 49,
   "id": "c52da247",
   "metadata": {},
   "outputs": [
    {
     "data": {
      "text/plain": [
       "['Bulbasaur',\n",
       " 'Caterpie',\n",
       " 'Pikachu',\n",
       " 'Meowth',\n",
       " 'Jigglypuff',\n",
       " 'Zubat',\n",
       " 'Psyduck']"
      ]
     },
     "execution_count": 49,
     "metadata": {},
     "output_type": "execute_result"
    }
   ],
   "source": [
    "#concatenando listas\n",
    "pokedex = pokemon + ['Jigglypuff','Zubat','Psyduck']\n",
    "pokedex"
   ]
  },
  {
   "cell_type": "markdown",
   "id": "61024915",
   "metadata": {},
   "source": [
    "Procurando Elementos:"
   ]
  },
  {
   "cell_type": "code",
   "execution_count": 50,
   "id": "15e1d3a9",
   "metadata": {},
   "outputs": [
    {
     "data": {
      "text/plain": [
       "1"
      ]
     },
     "execution_count": 50,
     "metadata": {},
     "output_type": "execute_result"
    }
   ],
   "source": [
    "#contando elementos \n",
    "pokemon.count('Pikachu')"
   ]
  },
  {
   "cell_type": "code",
   "execution_count": 51,
   "id": "134f56f3",
   "metadata": {},
   "outputs": [
    {
     "data": {
      "text/plain": [
       "1"
      ]
     },
     "execution_count": 51,
     "metadata": {},
     "output_type": "execute_result"
    }
   ],
   "source": [
    "#retornando o indice\n",
    "pokemon.index('Caterpie')"
   ]
  },
  {
   "cell_type": "markdown",
   "id": "dc0e2e4d",
   "metadata": {},
   "source": [
    "Quebrando listas:"
   ]
  },
  {
   "cell_type": "code",
   "execution_count": 52,
   "id": "91f035cb",
   "metadata": {},
   "outputs": [],
   "source": [
    "dias = ['seg','ter','qua','qui','sex']"
   ]
  },
  {
   "cell_type": "code",
   "execution_count": 53,
   "id": "41854eda",
   "metadata": {},
   "outputs": [
    {
     "data": {
      "text/plain": [
       "'seg'"
      ]
     },
     "execution_count": 53,
     "metadata": {},
     "output_type": "execute_result"
    }
   ],
   "source": [
    "#elemento index\n",
    "dias[0]"
   ]
  },
  {
   "cell_type": "code",
   "execution_count": 54,
   "id": "3653d2f6",
   "metadata": {},
   "outputs": [
    {
     "data": {
      "text/plain": [
       "['seg', 'ter', 'qua']"
      ]
     },
     "execution_count": 54,
     "metadata": {},
     "output_type": "execute_result"
    }
   ],
   "source": [
    "#elemento de 0 a 3  [0:3[\n",
    "dias[0:3]"
   ]
  },
  {
   "cell_type": "code",
   "execution_count": 55,
   "id": "bb309d0a",
   "metadata": {},
   "outputs": [
    {
     "data": {
      "text/plain": [
       "['seg', 'ter', 'qua']"
      ]
     },
     "execution_count": 55,
     "metadata": {},
     "output_type": "execute_result"
    }
   ],
   "source": [
    "#ponto de inicio implicito em 0\n",
    "dias[:3]"
   ]
  },
  {
   "cell_type": "code",
   "execution_count": 56,
   "id": "1d597b4b",
   "metadata": {},
   "outputs": [
    {
     "data": {
      "text/plain": [
       "['qui', 'sex']"
      ]
     },
     "execution_count": 56,
     "metadata": {},
     "output_type": "execute_result"
    }
   ],
   "source": [
    "#elemento de 3 ao fim [3:∞[\n",
    "dias[3:]"
   ]
  },
  {
   "cell_type": "code",
   "execution_count": 57,
   "id": "49263b41",
   "metadata": {},
   "outputs": [
    {
     "data": {
      "text/plain": [
       "'sex'"
      ]
     },
     "execution_count": 57,
     "metadata": {},
     "output_type": "execute_result"
    }
   ],
   "source": [
    "#ultimo elemento\n",
    "dias[-1]"
   ]
  },
  {
   "cell_type": "code",
   "execution_count": 58,
   "id": "9b39368c",
   "metadata": {},
   "outputs": [
    {
     "data": {
      "text/plain": [
       "['seg', 'qua', 'sex']"
      ]
     },
     "execution_count": 58,
     "metadata": {},
     "output_type": "execute_result"
    }
   ],
   "source": [
    "#pulando elementos\n",
    "dias[::2]"
   ]
  },
  {
   "cell_type": "code",
   "execution_count": 59,
   "id": "dc83917b",
   "metadata": {},
   "outputs": [
    {
     "data": {
      "text/plain": [
       "['sex', 'qui', 'qua', 'ter', 'seg']"
      ]
     },
     "execution_count": 59,
     "metadata": {},
     "output_type": "execute_result"
    }
   ],
   "source": [
    "#lista inversa\n",
    "dias[::-1]"
   ]
  },
  {
   "cell_type": "code",
   "execution_count": 60,
   "id": "8db53391",
   "metadata": {},
   "outputs": [
    {
     "data": {
      "text/plain": [
       "['sex', 'qui', 'qua', 'ter', 'seg']"
      ]
     },
     "execution_count": 60,
     "metadata": {},
     "output_type": "execute_result"
    }
   ],
   "source": [
    "#outro meio de inverter\n",
    "list(reversed(dias))"
   ]
  },
  {
   "cell_type": "markdown",
   "id": "8c50cfc0",
   "metadata": {},
   "source": [
    "Classifica uma lista no local:"
   ]
  },
  {
   "cell_type": "code",
   "execution_count": 61,
   "id": "63d4f227",
   "metadata": {},
   "outputs": [
    {
     "data": {
      "text/plain": [
       "['Bulbasaur', 'Caterpie', 'Meowth', 'Pikachu']"
      ]
     },
     "execution_count": 61,
     "metadata": {},
     "output_type": "execute_result"
    }
   ],
   "source": [
    "#classificar em ordem alfabetica\n",
    "pokemon.sort()\n",
    "pokemon"
   ]
  },
  {
   "cell_type": "code",
   "execution_count": 62,
   "id": "a814db84",
   "metadata": {},
   "outputs": [
    {
     "data": {
      "text/plain": [
       "['Pikachu', 'Meowth', 'Caterpie', 'Bulbasaur']"
      ]
     },
     "execution_count": 62,
     "metadata": {},
     "output_type": "execute_result"
    }
   ],
   "source": [
    "#classificar o inverso\n",
    "pokemon.sort(reverse=True)\n",
    "pokemon"
   ]
  },
  {
   "cell_type": "code",
   "execution_count": 63,
   "id": "4beef960",
   "metadata": {},
   "outputs": [
    {
     "data": {
      "text/plain": [
       "['Meowth', 'Pikachu', 'Caterpie', 'Bulbasaur']"
      ]
     },
     "execution_count": 63,
     "metadata": {},
     "output_type": "execute_result"
    }
   ],
   "source": [
    "#classificar por chave\n",
    "pokemon.sort(key=len)\n",
    "pokemon"
   ]
  },
  {
   "cell_type": "markdown",
   "id": "66cc5c8f",
   "metadata": {},
   "source": [
    "Retornar lista classificada:"
   ]
  },
  {
   "cell_type": "code",
   "execution_count": 64,
   "id": "9cbb7270",
   "metadata": {},
   "outputs": [
    {
     "data": {
      "text/plain": [
       "['Bulbasaur', 'Caterpie', 'Meowth', 'Pikachu']"
      ]
     },
     "execution_count": 64,
     "metadata": {},
     "output_type": "execute_result"
    }
   ],
   "source": [
    "sorted(pokemon)"
   ]
  },
  {
   "cell_type": "code",
   "execution_count": 65,
   "id": "d470b7f7",
   "metadata": {},
   "outputs": [
    {
     "data": {
      "text/plain": [
       "['Pikachu', 'Meowth', 'Caterpie', 'Bulbasaur']"
      ]
     },
     "execution_count": 65,
     "metadata": {},
     "output_type": "execute_result"
    }
   ],
   "source": [
    "#lista inversa\n",
    "sorted(pokemon, reverse=True)"
   ]
  },
  {
   "cell_type": "code",
   "execution_count": 66,
   "id": "586b4f20",
   "metadata": {},
   "outputs": [
    {
     "data": {
      "text/plain": [
       "['Meowth', 'Pikachu', 'Caterpie', 'Bulbasaur']"
      ]
     },
     "execution_count": 66,
     "metadata": {},
     "output_type": "execute_result"
    }
   ],
   "source": [
    "#lista por tamanho\n",
    "sorted(pokemon, key=len)"
   ]
  },
  {
   "cell_type": "markdown",
   "id": "158db48b",
   "metadata": {},
   "source": [
    "Bisect - Algoritmo de bisssecção de matriz :\n",
    " * Utilizado para listas longas de itens com operações de comparação\n",
    "     * O ponto de inserção retornado i divide a matriz a em duas metades"
   ]
  },
  {
   "cell_type": "code",
   "execution_count": 67,
   "id": "ef33beee",
   "metadata": {},
   "outputs": [
    {
     "data": {
      "text/plain": [
       "[10, 20, 30, 40, 50]"
      ]
     },
     "execution_count": 67,
     "metadata": {},
     "output_type": "execute_result"
    }
   ],
   "source": [
    "num = [10, 20, 40, 50]\n",
    "from bisect import insort\n",
    "insort(num,30)\n",
    "num"
   ]
  },
  {
   "cell_type": "markdown",
   "id": "7b4df3d1",
   "metadata": {},
   "source": [
    "Referências e cópias de objetos:\n"
   ]
  },
  {
   "cell_type": "code",
   "execution_count": 68,
   "id": "ebbb4423",
   "metadata": {},
   "outputs": [],
   "source": [
    "#criando um segunda referencia para a mesma lista\n",
    "same_num = num"
   ]
  },
  {
   "cell_type": "code",
   "execution_count": 69,
   "id": "93f5b3bd",
   "metadata": {},
   "outputs": [
    {
     "name": "stdout",
     "output_type": "stream",
     "text": [
      "[0, 20, 30, 40, 50]\n",
      "[0, 20, 30, 40, 50]\n"
     ]
    }
   ],
   "source": [
    "#modificando \"num\" e \"same_num\"\n",
    "same_num[0] = 0\n",
    "print(num)\n",
    "print(same_num)"
   ]
  },
  {
   "cell_type": "code",
   "execution_count": 70,
   "id": "75cb22f3",
   "metadata": {},
   "outputs": [],
   "source": [
    "#copiando lista (duas maneiras)\n",
    "new_num = num[:]\n",
    "new_num = list(num)"
   ]
  },
  {
   "cell_type": "markdown",
   "id": "aa59503b",
   "metadata": {},
   "source": [
    "Examinando os objetos:"
   ]
  },
  {
   "cell_type": "code",
   "execution_count": 71,
   "id": "b3bc036e",
   "metadata": {},
   "outputs": [
    {
     "data": {
      "text/plain": [
       "True"
      ]
     },
     "execution_count": 71,
     "metadata": {},
     "output_type": "execute_result"
    }
   ],
   "source": [
    "num is same_num  #checando se os objetos são os mesmos"
   ]
  },
  {
   "cell_type": "code",
   "execution_count": 72,
   "id": "2d27d510",
   "metadata": {},
   "outputs": [
    {
     "data": {
      "text/plain": [
       "False"
      ]
     },
     "execution_count": 72,
     "metadata": {},
     "output_type": "execute_result"
    }
   ],
   "source": [
    "num is new_num  #checando se os objetos são os mesmos"
   ]
  },
  {
   "cell_type": "code",
   "execution_count": 73,
   "id": "b095908b",
   "metadata": {},
   "outputs": [
    {
     "data": {
      "text/plain": [
       "True"
      ]
     },
     "execution_count": 73,
     "metadata": {},
     "output_type": "execute_result"
    }
   ],
   "source": [
    "num == same_num  #checando se tem o mesmo conteúdo"
   ]
  },
  {
   "cell_type": "code",
   "execution_count": 74,
   "id": "e0d1b03a",
   "metadata": {},
   "outputs": [
    {
     "data": {
      "text/plain": [
       "True"
      ]
     },
     "execution_count": 74,
     "metadata": {},
     "output_type": "execute_result"
    }
   ],
   "source": [
    "num == new_num  #checando se tem o mesmo conteúdo"
   ]
  },
  {
   "cell_type": "markdown",
   "id": "dd326a8d",
   "metadata": {},
   "source": [
    "[Topo](#another_cell)"
   ]
  },
  {
   "cell_type": "markdown",
   "id": "fe0aa250",
   "metadata": {},
   "source": [
    "<a id=\"Tuplas\"></a>\n",
    "# Tuplas\n",
    "* Ordenada\n",
    "* Imútavel\n",
    "* Vários tipos de dados"
   ]
  },
  {
   "cell_type": "code",
   "execution_count": 75,
   "id": "9f695eec",
   "metadata": {},
   "outputs": [],
   "source": [
    "#criando uma tupla \n",
    "digitos = (0,1,\"dois\")"
   ]
  },
  {
   "cell_type": "code",
   "execution_count": 76,
   "id": "89267a16",
   "metadata": {},
   "outputs": [],
   "source": [
    "#criando uma tupla de uma lista\n",
    "digitos = tuple([0,1,\"dois\"])"
   ]
  },
  {
   "cell_type": "code",
   "execution_count": 77,
   "id": "a0dbbd19",
   "metadata": {},
   "outputs": [
    {
     "data": {
      "text/plain": [
       "tuple"
      ]
     },
     "execution_count": 77,
     "metadata": {},
     "output_type": "execute_result"
    }
   ],
   "source": [
    "#a vírgula final é necessária para indicar que é uma tupla\n",
    "zero = (0,)\n",
    "type(zero)"
   ]
  },
  {
   "cell_type": "markdown",
   "id": "3ce4e5bd",
   "metadata": {},
   "source": [
    "Examinando uma tupla:"
   ]
  },
  {
   "cell_type": "code",
   "execution_count": 78,
   "id": "7c17e9a0",
   "metadata": {},
   "outputs": [
    {
     "data": {
      "text/plain": [
       "'dois'"
      ]
     },
     "execution_count": 78,
     "metadata": {},
     "output_type": "execute_result"
    }
   ],
   "source": [
    "digitos[2]"
   ]
  },
  {
   "cell_type": "code",
   "execution_count": 79,
   "id": "9ff47a62",
   "metadata": {},
   "outputs": [
    {
     "data": {
      "text/plain": [
       "3"
      ]
     },
     "execution_count": 79,
     "metadata": {},
     "output_type": "execute_result"
    }
   ],
   "source": [
    "len(digitos)"
   ]
  },
  {
   "cell_type": "code",
   "execution_count": 80,
   "id": "32dc4305",
   "metadata": {},
   "outputs": [
    {
     "data": {
      "text/plain": [
       "1"
      ]
     },
     "execution_count": 80,
     "metadata": {},
     "output_type": "execute_result"
    }
   ],
   "source": [
    "#contar o número de instâncias desse valor\n",
    "digitos.count(0)"
   ]
  },
  {
   "cell_type": "code",
   "execution_count": 81,
   "id": "07dec80a",
   "metadata": {},
   "outputs": [
    {
     "data": {
      "text/plain": [
       "1"
      ]
     },
     "execution_count": 81,
     "metadata": {},
     "output_type": "execute_result"
    }
   ],
   "source": [
    "#retornar o índice da primeira instância desse valor\n",
    "digitos.index(1)"
   ]
  },
  {
   "cell_type": "markdown",
   "id": "4bb936ee",
   "metadata": {},
   "source": [
    "Modificando uma tupla:"
   ]
  },
  {
   "cell_type": "code",
   "execution_count": 82,
   "id": "483afc4f",
   "metadata": {},
   "outputs": [],
   "source": [
    "#elementos da tupla não podem ser modificados\n",
    "#digitos[2] = 2"
   ]
  },
  {
   "cell_type": "code",
   "execution_count": 83,
   "id": "ee2dfcf4",
   "metadata": {},
   "outputs": [
    {
     "data": {
      "text/plain": [
       "(0, 1, 'dois', 3, 4)"
      ]
     },
     "execution_count": 83,
     "metadata": {},
     "output_type": "execute_result"
    }
   ],
   "source": [
    "#concatenando tuplas\n",
    "digitos = digitos + (3,4)\n",
    "digitos"
   ]
  },
  {
   "cell_type": "markdown",
   "id": "a89a3e09",
   "metadata": {},
   "source": [
    "Outras opeações na tupla:"
   ]
  },
  {
   "cell_type": "code",
   "execution_count": 84,
   "id": "8f9f7b8e",
   "metadata": {},
   "outputs": [
    {
     "data": {
      "text/plain": [
       "(3, 4, 3, 4)"
      ]
     },
     "execution_count": 84,
     "metadata": {},
     "output_type": "execute_result"
    }
   ],
   "source": [
    "#crie uma única tupla com elementos repetidos (também funciona em listas)\n",
    "(3,4) * 2"
   ]
  },
  {
   "cell_type": "code",
   "execution_count": 85,
   "id": "3aad8aec",
   "metadata": {},
   "outputs": [
    {
     "data": {
      "text/plain": [
       "[(10, 40), (20, 30), (20, 60)]"
      ]
     },
     "execution_count": 85,
     "metadata": {},
     "output_type": "execute_result"
    }
   ],
   "source": [
    "#classificar a lista de tuplas\n",
    "numbers = [(20,60),(10,40),(20,30)]\n",
    "sorted(numbers) #classifica os primeiros e segundos elementos das tuplas "
   ]
  },
  {
   "cell_type": "code",
   "execution_count": 86,
   "id": "dbd8e6ea",
   "metadata": {},
   "outputs": [
    {
     "name": "stdout",
     "output_type": "stream",
     "text": [
      "Homem\n",
      "20\n",
      "Prata\n"
     ]
    }
   ],
   "source": [
    "#descompactando a tupla\n",
    "Francisco = ('Homem', 20, 'Prata') #criando a tupla\n",
    "(sexo, idade, sobrenome) = Francisco #atribuindo valores \n",
    "print(sexo)\n",
    "print(idade)\n",
    "print(sobrenome)"
   ]
  },
  {
   "cell_type": "markdown",
   "id": "a31826c2",
   "metadata": {},
   "source": [
    "[Topo](#another_cell)"
   ]
  },
  {
   "cell_type": "markdown",
   "id": "1c3247fd",
   "metadata": {},
   "source": [
    "<a id=\"Dict\"></a>\n",
    "# Dicionários\n",
    "* Não ordenado\n",
    "* Mutável\n",
    "* Vários tipos de dados\n",
    "* Pares de valores-chaves\n",
    "* As chaves devem ser únicas e podem ser strings, números ou tuplas"
   ]
  },
  {
   "cell_type": "code",
   "execution_count": 87,
   "id": "b93eef7e",
   "metadata": {},
   "outputs": [],
   "source": [
    "#maneiras de criar um dicionário\n",
    "dict_vazio = {}\n",
    "dict_vazio = dict() "
   ]
  },
  {
   "cell_type": "code",
   "execution_count": 88,
   "id": "6b54df19",
   "metadata": {},
   "outputs": [
    {
     "data": {
      "text/plain": [
       "{'pai': 'homer', 'mom': 'marge', 'size': 6}"
      ]
     },
     "execution_count": 88,
     "metadata": {},
     "output_type": "execute_result"
    }
   ],
   "source": [
    "#criando dicionário\n",
    "familia = {'pai':'homer','mãe':'marge','size':6}\n",
    "familia = dict(pai='homer', mom='marge', size=6)\n",
    "familia"
   ]
  },
  {
   "cell_type": "code",
   "execution_count": 89,
   "id": "76d26107",
   "metadata": {},
   "outputs": [
    {
     "data": {
      "text/plain": [
       "{'pai': 'homer', 'mãe': 'marge', 'size': 6}"
      ]
     },
     "execution_count": 89,
     "metadata": {},
     "output_type": "execute_result"
    }
   ],
   "source": [
    "#convertendo lista de tuplas em dicionário\n",
    "lista_de_tupla = [('pai','homer'),('mãe','marge'),('size',6)]\n",
    "familia = dict(lista_de_tupla)\n",
    "familia"
   ]
  },
  {
   "cell_type": "markdown",
   "id": "6882b348",
   "metadata": {},
   "source": [
    "Examinando um dicionário:"
   ]
  },
  {
   "cell_type": "code",
   "execution_count": 90,
   "id": "d67bfefc",
   "metadata": {},
   "outputs": [
    {
     "data": {
      "text/plain": [
       "'homer'"
      ]
     },
     "execution_count": 90,
     "metadata": {},
     "output_type": "execute_result"
    }
   ],
   "source": [
    "#passar a chave e retorna o valor\n",
    "familia['pai']"
   ]
  },
  {
   "cell_type": "code",
   "execution_count": 91,
   "id": "0026e233",
   "metadata": {},
   "outputs": [
    {
     "data": {
      "text/plain": [
       "3"
      ]
     },
     "execution_count": 91,
     "metadata": {},
     "output_type": "execute_result"
    }
   ],
   "source": [
    "#retornando quantidade de pares de valores-chave\n",
    "len(familia)"
   ]
  },
  {
   "cell_type": "code",
   "execution_count": 92,
   "id": "f8b9f9f6",
   "metadata": {},
   "outputs": [
    {
     "data": {
      "text/plain": [
       "True"
      ]
     },
     "execution_count": 92,
     "metadata": {},
     "output_type": "execute_result"
    }
   ],
   "source": [
    "#checar se a chave existe no dicionário\n",
    "'mãe' in familia"
   ]
  },
  {
   "cell_type": "code",
   "execution_count": 93,
   "id": "c9ff6b20",
   "metadata": {},
   "outputs": [
    {
     "data": {
      "text/plain": [
       "False"
      ]
     },
     "execution_count": 93,
     "metadata": {},
     "output_type": "execute_result"
    }
   ],
   "source": [
    "#valores do dicionário não são verificados\n",
    "'marge' in familia"
   ]
  },
  {
   "cell_type": "code",
   "execution_count": 94,
   "id": "7d54c38f",
   "metadata": {},
   "outputs": [
    {
     "data": {
      "text/plain": [
       "dict_keys(['pai', 'mãe', 'size'])"
      ]
     },
     "execution_count": 94,
     "metadata": {},
     "output_type": "execute_result"
    }
   ],
   "source": [
    "#retornar uma visualização iterável\n",
    "familia.keys()"
   ]
  },
  {
   "cell_type": "code",
   "execution_count": 95,
   "id": "f92524d3",
   "metadata": {},
   "outputs": [
    {
     "data": {
      "text/plain": [
       "dict_values(['homer', 'marge', 6])"
      ]
     },
     "execution_count": 95,
     "metadata": {},
     "output_type": "execute_result"
    }
   ],
   "source": [
    "#retorna valores em uma visualização iterável\n",
    "familia.values()"
   ]
  },
  {
   "cell_type": "code",
   "execution_count": 96,
   "id": "a26d6601",
   "metadata": {},
   "outputs": [
    {
     "data": {
      "text/plain": [
       "dict_items([('pai', 'homer'), ('mãe', 'marge'), ('size', 6)])"
      ]
     },
     "execution_count": 96,
     "metadata": {},
     "output_type": "execute_result"
    }
   ],
   "source": [
    "#retorna pares de valores-chaves\n",
    "familia.items()"
   ]
  },
  {
   "cell_type": "markdown",
   "id": "90913444",
   "metadata": {},
   "source": [
    "Modificando o dicionário (mas não retorna o dicionário):"
   ]
  },
  {
   "cell_type": "code",
   "execution_count": 97,
   "id": "a5af3982",
   "metadata": {},
   "outputs": [
    {
     "data": {
      "text/plain": [
       "{'pai': 'homer', 'mãe': 'marge', 'size': 6, 'cat': 'snowball'}"
      ]
     },
     "execution_count": 97,
     "metadata": {},
     "output_type": "execute_result"
    }
   ],
   "source": [
    "#adicionar elementos\n",
    "familia['cat'] = 'snowball'\n",
    "familia"
   ]
  },
  {
   "cell_type": "code",
   "execution_count": 98,
   "id": "f8fc8a25",
   "metadata": {},
   "outputs": [
    {
     "data": {
      "text/plain": [
       "{'pai': 'homer', 'mãe': 'marge', 'size': 6, 'cat': 'Snowball'}"
      ]
     },
     "execution_count": 98,
     "metadata": {},
     "output_type": "execute_result"
    }
   ],
   "source": [
    "#editar entradas existentes\n",
    "familia['cat'] = 'Snowball'\n",
    "familia"
   ]
  },
  {
   "cell_type": "code",
   "execution_count": 99,
   "id": "bf91f133",
   "metadata": {},
   "outputs": [
    {
     "data": {
      "text/plain": [
       "{'pai': 'homer', 'mãe': 'marge', 'size': 6}"
      ]
     },
     "execution_count": 99,
     "metadata": {},
     "output_type": "execute_result"
    }
   ],
   "source": [
    "#deletar entradas\n",
    "del familia['cat']\n",
    "familia"
   ]
  },
  {
   "cell_type": "code",
   "execution_count": 100,
   "id": "d389229d",
   "metadata": {},
   "outputs": [
    {
     "data": {
      "text/plain": [
       "{'pai': 'homer', 'mãe': 'marge', 'size': 6, 'crianças': ['bart', 'lisa']}"
      ]
     },
     "execution_count": 100,
     "metadata": {},
     "output_type": "execute_result"
    }
   ],
   "source": [
    "#valor de um dicionario pode ser uma lista\n",
    "familia['crianças'] = ['bart','lisa']\n",
    "familia"
   ]
  },
  {
   "cell_type": "code",
   "execution_count": 101,
   "id": "0eaf4f0a",
   "metadata": {},
   "outputs": [
    {
     "data": {
      "text/plain": [
       "'homer'"
      ]
     },
     "execution_count": 101,
     "metadata": {},
     "output_type": "execute_result"
    }
   ],
   "source": [
    "#remover entrada e retornar valores\n",
    "familia.pop('pai')"
   ]
  },
  {
   "cell_type": "code",
   "execution_count": 102,
   "id": "59b0b9ad",
   "metadata": {},
   "outputs": [
    {
     "data": {
      "text/plain": [
       "{'mãe': 'marge',\n",
       " 'size': 6,\n",
       " 'crianças': ['bart', 'lisa'],\n",
       " 'bebe': 'maggie',\n",
       " 'vovô': 'abe'}"
      ]
     },
     "execution_count": 102,
     "metadata": {},
     "output_type": "execute_result"
    }
   ],
   "source": [
    "#adicionar multiplas entradas\n",
    "familia.update({'bebe':'maggie','vovô':'abe'})\n",
    "familia"
   ]
  },
  {
   "cell_type": "markdown",
   "id": "0b683e12",
   "metadata": {},
   "source": [
    "Acesar valores com mais segurança, usando get:"
   ]
  },
  {
   "cell_type": "code",
   "execution_count": 103,
   "id": "02118fc8",
   "metadata": {},
   "outputs": [
    {
     "data": {
      "text/plain": [
       "'marge'"
      ]
     },
     "execution_count": 103,
     "metadata": {},
     "output_type": "execute_result"
    }
   ],
   "source": [
    "familia['mãe']"
   ]
  },
  {
   "cell_type": "code",
   "execution_count": 104,
   "id": "e6a7a065",
   "metadata": {},
   "outputs": [
    {
     "data": {
      "text/plain": [
       "'marge'"
      ]
     },
     "execution_count": 104,
     "metadata": {},
     "output_type": "execute_result"
    }
   ],
   "source": [
    "#outra maneira de pesquisar no dicionário\n",
    "familia.get('mãe')"
   ]
  },
  {
   "cell_type": "code",
   "execution_count": 105,
   "id": "11cab6e9",
   "metadata": {},
   "outputs": [],
   "source": [
    "#quando não houver a chave(causaria um erro)\n",
    "#familia['vovó']"
   ]
  },
  {
   "cell_type": "code",
   "execution_count": 106,
   "id": "83d97b7b",
   "metadata": {},
   "outputs": [],
   "source": [
    "#retornando nada, pois não encontrou a chave\n",
    "familia.get('vovó')"
   ]
  },
  {
   "cell_type": "code",
   "execution_count": 107,
   "id": "2a9c4562",
   "metadata": {},
   "outputs": [
    {
     "data": {
      "text/plain": [
       "'não encontrado'"
      ]
     },
     "execution_count": 107,
     "metadata": {},
     "output_type": "execute_result"
    }
   ],
   "source": [
    "#fornecer um valor de retorno padrão se não for encontrado\n",
    "familia.get('vovó', 'não encontrado')"
   ]
  },
  {
   "cell_type": "markdown",
   "id": "b20fe3f7",
   "metadata": {},
   "source": [
    "Acessando o elemento de uma lista em um dicionário:"
   ]
  },
  {
   "cell_type": "code",
   "execution_count": 108,
   "id": "c37ce212",
   "metadata": {},
   "outputs": [
    {
     "data": {
      "text/plain": [
       "'bart'"
      ]
     },
     "execution_count": 108,
     "metadata": {},
     "output_type": "execute_result"
    }
   ],
   "source": [
    "familia['crianças'][0]"
   ]
  },
  {
   "cell_type": "code",
   "execution_count": 109,
   "id": "f630ba37",
   "metadata": {},
   "outputs": [
    {
     "data": {
      "text/plain": [
       "{'mãe': 'marge',\n",
       " 'size': 6,\n",
       " 'crianças': ['bart'],\n",
       " 'bebe': 'maggie',\n",
       " 'vovô': 'abe'}"
      ]
     },
     "execution_count": 109,
     "metadata": {},
     "output_type": "execute_result"
    }
   ],
   "source": [
    "familia['crianças'].remove('lisa')\n",
    "familia"
   ]
  },
  {
   "cell_type": "markdown",
   "id": "c8de482c",
   "metadata": {},
   "source": [
    "Substituição de string usando dicionário:\n"
   ]
  },
  {
   "cell_type": "code",
   "execution_count": 111,
   "id": "28dd252a",
   "metadata": {},
   "outputs": [
    {
     "data": {
      "text/plain": [
       "'A pessoa mais nova da casa é maggie'"
      ]
     },
     "execution_count": 111,
     "metadata": {},
     "output_type": "execute_result"
    }
   ],
   "source": [
    "'A pessoa mais nova da casa é %(bebe)s' %familia"
   ]
  },
  {
   "cell_type": "markdown",
   "id": "9adf451a",
   "metadata": {},
   "source": [
    "[Topo](#another_cell)"
   ]
  },
  {
   "cell_type": "markdown",
   "id": "2d81e526",
   "metadata": {},
   "source": [
    "<a id='func'></a>\n",
    "#  Funções"
   ]
  },
  {
   "cell_type": "code",
   "execution_count": null,
   "id": "d5e2994a",
   "metadata": {},
   "outputs": [],
   "source": []
  }
 ],
 "metadata": {
  "kernelspec": {
   "display_name": "Python 3 (ipykernel)",
   "language": "python",
   "name": "python3"
  },
  "language_info": {
   "codemirror_mode": {
    "name": "ipython",
    "version": 3
   },
   "file_extension": ".py",
   "mimetype": "text/x-python",
   "name": "python",
   "nbconvert_exporter": "python",
   "pygments_lexer": "ipython3",
   "version": "3.9.7"
  }
 },
 "nbformat": 4,
 "nbformat_minor": 5
}
