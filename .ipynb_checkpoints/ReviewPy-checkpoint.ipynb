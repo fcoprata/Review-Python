{
 "cells": [
  {
   "cell_type": "markdown",
   "id": "6432081c",
   "metadata": {},
   "source": [
    "<a id='another_cell'></a>\n",
    "# Súmario\n",
    "* [Listas](#Listas)\n",
    "* [Tuplas](#Tuplas)\n",
    "* [Dicionários](#Dict)\n",
    "\n"
   ]
  },
  {
   "cell_type": "markdown",
   "id": "53f820ad",
   "metadata": {},
   "source": [
    "<a id='Listas'></a>\n",
    "# Listas\n",
    "* Ordenada\n",
    "* Mutável\n",
    "* Vários tipos de dados"
   ]
  },
  {
   "cell_type": "code",
   "execution_count": 145,
   "id": "af71f918",
   "metadata": {},
   "outputs": [],
   "source": [
    "#como criar uma lista vazia\n",
    "lista = []\n",
    "lista = list()"
   ]
  },
  {
   "cell_type": "code",
   "execution_count": 146,
   "id": "7442180a",
   "metadata": {},
   "outputs": [],
   "source": [
    "#criando lista\n",
    "pokemon = ['Squirtle','Charmander','Bulbasaur']"
   ]
  },
  {
   "cell_type": "markdown",
   "id": "fece722a",
   "metadata": {},
   "source": [
    "Conferindo a lista:"
   ]
  },
  {
   "cell_type": "code",
   "execution_count": 147,
   "id": "a030b3d5",
   "metadata": {},
   "outputs": [
    {
     "data": {
      "text/plain": [
       "'Squirtle'"
      ]
     },
     "execution_count": 147,
     "metadata": {},
     "output_type": "execute_result"
    }
   ],
   "source": [
    "#printando um elemento\n",
    "pokemon[0]"
   ]
  },
  {
   "cell_type": "code",
   "execution_count": 148,
   "id": "7ebfb53b",
   "metadata": {},
   "outputs": [
    {
     "data": {
      "text/plain": [
       "3"
      ]
     },
     "execution_count": 148,
     "metadata": {},
     "output_type": "execute_result"
    }
   ],
   "source": [
    "len(pokemon)"
   ]
  },
  {
   "cell_type": "markdown",
   "id": "ee97e95b",
   "metadata": {},
   "source": [
    "Modificando a lista:"
   ]
  },
  {
   "cell_type": "code",
   "execution_count": 149,
   "id": "c92ae86e",
   "metadata": {},
   "outputs": [
    {
     "data": {
      "text/plain": [
       "['Squirtle', 'Charmander', 'Bulbasaur', 'Caterpie']"
      ]
     },
     "execution_count": 149,
     "metadata": {},
     "output_type": "execute_result"
    }
   ],
   "source": [
    "#incluindo elementos na lista\n",
    "pokemon.append(\"Caterpie\")\n",
    "pokemon"
   ]
  },
  {
   "cell_type": "code",
   "execution_count": 150,
   "id": "49ccdd6a",
   "metadata": {},
   "outputs": [
    {
     "data": {
      "text/plain": [
       "['Squirtle', 'Charmander', 'Bulbasaur', 'Caterpie', 'Pikachu', 'Rattata']"
      ]
     },
     "execution_count": 150,
     "metadata": {},
     "output_type": "execute_result"
    }
   ],
   "source": [
    "#incluindo mais de um elemento\n",
    "pokemon.extend(['Pikachu','Rattata'])\n",
    "pokemon"
   ]
  },
  {
   "cell_type": "code",
   "execution_count": 151,
   "id": "68941d18",
   "metadata": {},
   "outputs": [
    {
     "data": {
      "text/plain": [
       "['Pidgey',\n",
       " 'Squirtle',\n",
       " 'Charmander',\n",
       " 'Bulbasaur',\n",
       " 'Caterpie',\n",
       " 'Pikachu',\n",
       " 'Rattata']"
      ]
     },
     "execution_count": 151,
     "metadata": {},
     "output_type": "execute_result"
    }
   ],
   "source": [
    "#incluindo elementos em local especifico\n",
    "pokemon.insert(0,'Pidgey')\n",
    "pokemon"
   ]
  },
  {
   "cell_type": "code",
   "execution_count": 152,
   "id": "88db1f50",
   "metadata": {},
   "outputs": [
    {
     "data": {
      "text/plain": [
       "['Squirtle', 'Charmander', 'Bulbasaur', 'Caterpie', 'Pikachu', 'Rattata']"
      ]
     },
     "execution_count": 152,
     "metadata": {},
     "output_type": "execute_result"
    }
   ],
   "source": [
    "#removendo elemento especificado\n",
    "pokemon.remove(\"Pidgey\")\n",
    "pokemon"
   ]
  },
  {
   "cell_type": "code",
   "execution_count": 153,
   "id": "dc1ff7ca",
   "metadata": {},
   "outputs": [
    {
     "data": {
      "text/plain": [
       "'Squirtle'"
      ]
     },
     "execution_count": 153,
     "metadata": {},
     "output_type": "execute_result"
    }
   ],
   "source": [
    "#removendo elemento e retornando ele\n",
    "pokemon.pop(0)"
   ]
  },
  {
   "cell_type": "code",
   "execution_count": 154,
   "id": "066d205d",
   "metadata": {},
   "outputs": [
    {
     "data": {
      "text/plain": [
       "['Bulbasaur', 'Caterpie', 'Pikachu', 'Rattata']"
      ]
     },
     "execution_count": 154,
     "metadata": {},
     "output_type": "execute_result"
    }
   ],
   "source": [
    "#removendo elemento e retornando lista \n",
    "del pokemon[0]\n",
    "pokemon"
   ]
  },
  {
   "cell_type": "code",
   "execution_count": 155,
   "id": "9909f7d0",
   "metadata": {},
   "outputs": [
    {
     "data": {
      "text/plain": [
       "['Bulbasaur', 'Caterpie', 'Pikachu', 'Meowth']"
      ]
     },
     "execution_count": 155,
     "metadata": {},
     "output_type": "execute_result"
    }
   ],
   "source": [
    "#trocando elemento\n",
    "pokemon[3] = \"Meowth\"\n",
    "pokemon"
   ]
  },
  {
   "cell_type": "code",
   "execution_count": 156,
   "id": "c52da247",
   "metadata": {},
   "outputs": [
    {
     "data": {
      "text/plain": [
       "['Bulbasaur',\n",
       " 'Caterpie',\n",
       " 'Pikachu',\n",
       " 'Meowth',\n",
       " 'Jigglypuff',\n",
       " 'Zubat',\n",
       " 'Psyduck']"
      ]
     },
     "execution_count": 156,
     "metadata": {},
     "output_type": "execute_result"
    }
   ],
   "source": [
    "#concatenando listas\n",
    "pokedex = pokemon + ['Jigglypuff','Zubat','Psyduck']\n",
    "pokedex"
   ]
  },
  {
   "cell_type": "markdown",
   "id": "61024915",
   "metadata": {},
   "source": [
    "Procurando Elementos:"
   ]
  },
  {
   "cell_type": "code",
   "execution_count": 157,
   "id": "15e1d3a9",
   "metadata": {},
   "outputs": [
    {
     "data": {
      "text/plain": [
       "1"
      ]
     },
     "execution_count": 157,
     "metadata": {},
     "output_type": "execute_result"
    }
   ],
   "source": [
    "#contando elementos \n",
    "pokemon.count('Pikachu')"
   ]
  },
  {
   "cell_type": "code",
   "execution_count": 158,
   "id": "134f56f3",
   "metadata": {},
   "outputs": [
    {
     "data": {
      "text/plain": [
       "1"
      ]
     },
     "execution_count": 158,
     "metadata": {},
     "output_type": "execute_result"
    }
   ],
   "source": [
    "#retornando o indice\n",
    "pokemon.index('Caterpie')"
   ]
  },
  {
   "cell_type": "markdown",
   "id": "dc0e2e4d",
   "metadata": {},
   "source": [
    "Quebrando listas:"
   ]
  },
  {
   "cell_type": "code",
   "execution_count": 159,
   "id": "91f035cb",
   "metadata": {},
   "outputs": [],
   "source": [
    "dias = ['seg','ter','qua','qui','sex']"
   ]
  },
  {
   "cell_type": "code",
   "execution_count": 160,
   "id": "41854eda",
   "metadata": {},
   "outputs": [
    {
     "data": {
      "text/plain": [
       "'seg'"
      ]
     },
     "execution_count": 160,
     "metadata": {},
     "output_type": "execute_result"
    }
   ],
   "source": [
    "#elemento index\n",
    "dias[0]"
   ]
  },
  {
   "cell_type": "code",
   "execution_count": 161,
   "id": "3653d2f6",
   "metadata": {},
   "outputs": [
    {
     "data": {
      "text/plain": [
       "['seg', 'ter', 'qua']"
      ]
     },
     "execution_count": 161,
     "metadata": {},
     "output_type": "execute_result"
    }
   ],
   "source": [
    "#elemento de 0 a 3  [0:3[\n",
    "dias[0:3]"
   ]
  },
  {
   "cell_type": "code",
   "execution_count": 162,
   "id": "bb309d0a",
   "metadata": {},
   "outputs": [
    {
     "data": {
      "text/plain": [
       "['seg', 'ter', 'qua']"
      ]
     },
     "execution_count": 162,
     "metadata": {},
     "output_type": "execute_result"
    }
   ],
   "source": [
    "#ponto de inicio implicito em 0\n",
    "dias[:3]"
   ]
  },
  {
   "cell_type": "code",
   "execution_count": 163,
   "id": "1d597b4b",
   "metadata": {},
   "outputs": [
    {
     "data": {
      "text/plain": [
       "['qui', 'sex']"
      ]
     },
     "execution_count": 163,
     "metadata": {},
     "output_type": "execute_result"
    }
   ],
   "source": [
    "#elemento de 3 ao fim [3:∞[\n",
    "dias[3:]"
   ]
  },
  {
   "cell_type": "code",
   "execution_count": 164,
   "id": "49263b41",
   "metadata": {},
   "outputs": [
    {
     "data": {
      "text/plain": [
       "'sex'"
      ]
     },
     "execution_count": 164,
     "metadata": {},
     "output_type": "execute_result"
    }
   ],
   "source": [
    "#ultimo elemento\n",
    "dias[-1]"
   ]
  },
  {
   "cell_type": "code",
   "execution_count": 165,
   "id": "9b39368c",
   "metadata": {},
   "outputs": [
    {
     "data": {
      "text/plain": [
       "['seg', 'qua', 'sex']"
      ]
     },
     "execution_count": 165,
     "metadata": {},
     "output_type": "execute_result"
    }
   ],
   "source": [
    "#pulando elementos\n",
    "dias[::2]"
   ]
  },
  {
   "cell_type": "code",
   "execution_count": 166,
   "id": "dc83917b",
   "metadata": {},
   "outputs": [
    {
     "data": {
      "text/plain": [
       "['sex', 'qui', 'qua', 'ter', 'seg']"
      ]
     },
     "execution_count": 166,
     "metadata": {},
     "output_type": "execute_result"
    }
   ],
   "source": [
    "#lista inversa\n",
    "dias[::-1]"
   ]
  },
  {
   "cell_type": "code",
   "execution_count": 167,
   "id": "8db53391",
   "metadata": {},
   "outputs": [
    {
     "data": {
      "text/plain": [
       "['sex', 'qui', 'qua', 'ter', 'seg']"
      ]
     },
     "execution_count": 167,
     "metadata": {},
     "output_type": "execute_result"
    }
   ],
   "source": [
    "#outro meio de inverter\n",
    "list(reversed(dias))"
   ]
  },
  {
   "cell_type": "markdown",
   "id": "8c50cfc0",
   "metadata": {},
   "source": [
    "Classifica uma lista no local:"
   ]
  },
  {
   "cell_type": "code",
   "execution_count": 168,
   "id": "63d4f227",
   "metadata": {},
   "outputs": [
    {
     "data": {
      "text/plain": [
       "['Bulbasaur', 'Caterpie', 'Meowth', 'Pikachu']"
      ]
     },
     "execution_count": 168,
     "metadata": {},
     "output_type": "execute_result"
    }
   ],
   "source": [
    "#classificar em ordem alfabetica\n",
    "pokemon.sort()\n",
    "pokemon"
   ]
  },
  {
   "cell_type": "code",
   "execution_count": 169,
   "id": "a814db84",
   "metadata": {},
   "outputs": [
    {
     "data": {
      "text/plain": [
       "['Pikachu', 'Meowth', 'Caterpie', 'Bulbasaur']"
      ]
     },
     "execution_count": 169,
     "metadata": {},
     "output_type": "execute_result"
    }
   ],
   "source": [
    "#classificar o inverso\n",
    "pokemon.sort(reverse=True)\n",
    "pokemon"
   ]
  },
  {
   "cell_type": "code",
   "execution_count": 170,
   "id": "4beef960",
   "metadata": {},
   "outputs": [
    {
     "data": {
      "text/plain": [
       "['Meowth', 'Pikachu', 'Caterpie', 'Bulbasaur']"
      ]
     },
     "execution_count": 170,
     "metadata": {},
     "output_type": "execute_result"
    }
   ],
   "source": [
    "#classificar por chave\n",
    "pokemon.sort(key=len)\n",
    "pokemon"
   ]
  },
  {
   "cell_type": "markdown",
   "id": "66cc5c8f",
   "metadata": {},
   "source": [
    "Retornar lista classificada:"
   ]
  },
  {
   "cell_type": "code",
   "execution_count": 171,
   "id": "9cbb7270",
   "metadata": {},
   "outputs": [
    {
     "data": {
      "text/plain": [
       "['Bulbasaur', 'Caterpie', 'Meowth', 'Pikachu']"
      ]
     },
     "execution_count": 171,
     "metadata": {},
     "output_type": "execute_result"
    }
   ],
   "source": [
    "sorted(pokemon)"
   ]
  },
  {
   "cell_type": "code",
   "execution_count": 172,
   "id": "d470b7f7",
   "metadata": {},
   "outputs": [
    {
     "data": {
      "text/plain": [
       "['Pikachu', 'Meowth', 'Caterpie', 'Bulbasaur']"
      ]
     },
     "execution_count": 172,
     "metadata": {},
     "output_type": "execute_result"
    }
   ],
   "source": [
    "#lista inversa\n",
    "sorted(pokemon, reverse=True)"
   ]
  },
  {
   "cell_type": "code",
   "execution_count": 173,
   "id": "586b4f20",
   "metadata": {},
   "outputs": [
    {
     "data": {
      "text/plain": [
       "['Meowth', 'Pikachu', 'Caterpie', 'Bulbasaur']"
      ]
     },
     "execution_count": 173,
     "metadata": {},
     "output_type": "execute_result"
    }
   ],
   "source": [
    "#lista por tamanho\n",
    "sorted(pokemon, key=len)"
   ]
  },
  {
   "cell_type": "markdown",
   "id": "158db48b",
   "metadata": {},
   "source": [
    "Bisect - Algoritmo de bisssecção de matriz :\n",
    " * Utilizado para listas longas de itens com operações de comparação\n",
    "     * O ponto de inserção retornado i divide a matriz a em duas metades"
   ]
  },
  {
   "cell_type": "code",
   "execution_count": 174,
   "id": "ef33beee",
   "metadata": {},
   "outputs": [
    {
     "data": {
      "text/plain": [
       "[10, 20, 30, 40, 50]"
      ]
     },
     "execution_count": 174,
     "metadata": {},
     "output_type": "execute_result"
    }
   ],
   "source": [
    "num = [10, 20, 40, 50]\n",
    "from bisect import insort\n",
    "insort(num,30)\n",
    "num"
   ]
  },
  {
   "cell_type": "markdown",
   "id": "7b4df3d1",
   "metadata": {},
   "source": [
    "Referências e cópias de objetos:\n"
   ]
  },
  {
   "cell_type": "code",
   "execution_count": 175,
   "id": "ebbb4423",
   "metadata": {},
   "outputs": [],
   "source": [
    "#criando um segunda referencia para a mesma lista\n",
    "same_num = num"
   ]
  },
  {
   "cell_type": "code",
   "execution_count": 176,
   "id": "93f5b3bd",
   "metadata": {},
   "outputs": [
    {
     "name": "stdout",
     "output_type": "stream",
     "text": [
      "[0, 20, 30, 40, 50]\n",
      "[0, 20, 30, 40, 50]\n"
     ]
    }
   ],
   "source": [
    "#modificando \"num\" e \"same_num\"\n",
    "same_num[0] = 0\n",
    "print(num)\n",
    "print(same_num)"
   ]
  },
  {
   "cell_type": "code",
   "execution_count": 177,
   "id": "75cb22f3",
   "metadata": {},
   "outputs": [],
   "source": [
    "#copiando lista (duas maneiras)\n",
    "new_num = num[:]\n",
    "new_num = list(num)"
   ]
  },
  {
   "cell_type": "markdown",
   "id": "aa59503b",
   "metadata": {},
   "source": [
    "Examinando os objetos:"
   ]
  },
  {
   "cell_type": "code",
   "execution_count": 178,
   "id": "b3bc036e",
   "metadata": {},
   "outputs": [
    {
     "data": {
      "text/plain": [
       "True"
      ]
     },
     "execution_count": 178,
     "metadata": {},
     "output_type": "execute_result"
    }
   ],
   "source": [
    "num is same_num  #checando se os objetos são os mesmos"
   ]
  },
  {
   "cell_type": "code",
   "execution_count": 179,
   "id": "2d27d510",
   "metadata": {},
   "outputs": [
    {
     "data": {
      "text/plain": [
       "False"
      ]
     },
     "execution_count": 179,
     "metadata": {},
     "output_type": "execute_result"
    }
   ],
   "source": [
    "num is new_num  #checando se os objetos são os mesmos"
   ]
  },
  {
   "cell_type": "code",
   "execution_count": 180,
   "id": "b095908b",
   "metadata": {},
   "outputs": [
    {
     "data": {
      "text/plain": [
       "True"
      ]
     },
     "execution_count": 180,
     "metadata": {},
     "output_type": "execute_result"
    }
   ],
   "source": [
    "num == same_num  #checando se tem o mesmo conteúdo"
   ]
  },
  {
   "cell_type": "code",
   "execution_count": 181,
   "id": "e0d1b03a",
   "metadata": {},
   "outputs": [
    {
     "data": {
      "text/plain": [
       "True"
      ]
     },
     "execution_count": 181,
     "metadata": {},
     "output_type": "execute_result"
    }
   ],
   "source": [
    "num == new_num  #checando se tem o mesmo conteúdo"
   ]
  },
  {
   "cell_type": "markdown",
   "id": "dd326a8d",
   "metadata": {},
   "source": [
    "[Topo](#another_cell)"
   ]
  },
  {
   "cell_type": "markdown",
   "id": "fe0aa250",
   "metadata": {},
   "source": [
    "<a id=\"Tuplas\"></a>\n",
    "# Tuplas\n",
    "* Ordenada\n",
    "* Imútavel\n",
    "* Vários tipos de dados"
   ]
  },
  {
   "cell_type": "code",
   "execution_count": 182,
   "id": "9f695eec",
   "metadata": {},
   "outputs": [],
   "source": [
    "#criando uma tupla \n",
    "digitos = (0,1,\"dois\")"
   ]
  },
  {
   "cell_type": "code",
   "execution_count": 183,
   "id": "89267a16",
   "metadata": {},
   "outputs": [],
   "source": [
    "#criando uma tupla de uma lista\n",
    "digitos = tuple([0,1,\"dois\"])"
   ]
  },
  {
   "cell_type": "code",
   "execution_count": 184,
   "id": "a0dbbd19",
   "metadata": {},
   "outputs": [
    {
     "data": {
      "text/plain": [
       "tuple"
      ]
     },
     "execution_count": 184,
     "metadata": {},
     "output_type": "execute_result"
    }
   ],
   "source": [
    "#a vírgula final é necessária para indicar que é uma tupla\n",
    "zero = (0,)\n",
    "type(zero)"
   ]
  },
  {
   "cell_type": "markdown",
   "id": "3ce4e5bd",
   "metadata": {},
   "source": [
    "Examinando uma tupla:"
   ]
  },
  {
   "cell_type": "code",
   "execution_count": 185,
   "id": "7c17e9a0",
   "metadata": {},
   "outputs": [
    {
     "data": {
      "text/plain": [
       "'dois'"
      ]
     },
     "execution_count": 185,
     "metadata": {},
     "output_type": "execute_result"
    }
   ],
   "source": [
    "digitos[2]"
   ]
  },
  {
   "cell_type": "code",
   "execution_count": 186,
   "id": "9ff47a62",
   "metadata": {},
   "outputs": [
    {
     "data": {
      "text/plain": [
       "3"
      ]
     },
     "execution_count": 186,
     "metadata": {},
     "output_type": "execute_result"
    }
   ],
   "source": [
    "len(digitos)"
   ]
  },
  {
   "cell_type": "code",
   "execution_count": 187,
   "id": "32dc4305",
   "metadata": {},
   "outputs": [
    {
     "data": {
      "text/plain": [
       "1"
      ]
     },
     "execution_count": 187,
     "metadata": {},
     "output_type": "execute_result"
    }
   ],
   "source": [
    "#contar o número de instâncias desse valor\n",
    "digitos.count(0)"
   ]
  },
  {
   "cell_type": "code",
   "execution_count": 188,
   "id": "07dec80a",
   "metadata": {},
   "outputs": [
    {
     "data": {
      "text/plain": [
       "1"
      ]
     },
     "execution_count": 188,
     "metadata": {},
     "output_type": "execute_result"
    }
   ],
   "source": [
    "#retornar o índice da primeira instância desse valor\n",
    "digitos.index(1)"
   ]
  },
  {
   "cell_type": "markdown",
   "id": "4bb936ee",
   "metadata": {},
   "source": [
    "Modificando uma tupla:"
   ]
  },
  {
   "cell_type": "code",
   "execution_count": 189,
   "id": "483afc4f",
   "metadata": {},
   "outputs": [],
   "source": [
    "#elementos da tupla não podem ser modificados\n",
    "#digitos[2] = 2"
   ]
  },
  {
   "cell_type": "code",
   "execution_count": 190,
   "id": "ee2dfcf4",
   "metadata": {},
   "outputs": [
    {
     "data": {
      "text/plain": [
       "(0, 1, 'dois', 3, 4)"
      ]
     },
     "execution_count": 190,
     "metadata": {},
     "output_type": "execute_result"
    }
   ],
   "source": [
    "#concatenando tuplas\n",
    "digitos = digitos + (3,4)\n",
    "digitos"
   ]
  },
  {
   "cell_type": "markdown",
   "id": "a89a3e09",
   "metadata": {},
   "source": [
    "Outras opeações na tupla:"
   ]
  },
  {
   "cell_type": "code",
   "execution_count": 191,
   "id": "8f9f7b8e",
   "metadata": {},
   "outputs": [
    {
     "data": {
      "text/plain": [
       "(3, 4, 3, 4)"
      ]
     },
     "execution_count": 191,
     "metadata": {},
     "output_type": "execute_result"
    }
   ],
   "source": [
    "#crie uma única tupla com elementos repetidos (também funciona em listas)\n",
    "(3,4) * 2"
   ]
  },
  {
   "cell_type": "code",
   "execution_count": 192,
   "id": "3aad8aec",
   "metadata": {},
   "outputs": [
    {
     "data": {
      "text/plain": [
       "[(10, 40), (20, 30), (20, 60)]"
      ]
     },
     "execution_count": 192,
     "metadata": {},
     "output_type": "execute_result"
    }
   ],
   "source": [
    "#classificar a lista de tuplas\n",
    "numbers = [(20,60),(10,40),(20,30)]\n",
    "sorted(numbers) #classifica os primeiros e segundos elementos das tuplas "
   ]
  },
  {
   "cell_type": "code",
   "execution_count": 193,
   "id": "dbd8e6ea",
   "metadata": {},
   "outputs": [
    {
     "name": "stdout",
     "output_type": "stream",
     "text": [
      "Homem\n",
      "20\n",
      "Prata\n"
     ]
    }
   ],
   "source": [
    "#descompactando a tupla\n",
    "Francisco = ('Homem', 20, 'Prata') #criando a tupla\n",
    "(sexo, idade, sobrenome) = Francisco #atribuindo valores \n",
    "print(sexo)\n",
    "print(idade)\n",
    "print(sobrenome)"
   ]
  },
  {
   "cell_type": "markdown",
   "id": "a31826c2",
   "metadata": {},
   "source": [
    "[Topo](#another_cell)"
   ]
  },
  {
   "cell_type": "markdown",
   "id": "78272d5b",
   "metadata": {},
   "source": [
    "<a id=\"Dict\"></a>\n",
    "# Dicionários\n",
    "* Não ordenado\n",
    "* Mutável\n",
    "* Vários tipos de dados\n",
    "* Pares de valores-chaves\n",
    "* As chaves devem ser únicas e podem ser strings, números ou tuplas"
   ]
  },
  {
   "cell_type": "code",
   "execution_count": 1,
   "id": "628f7cc8",
   "metadata": {},
   "outputs": [],
   "source": [
    "#maneiras de criar um dicionário\n",
    "dict_vazio = {}\n",
    "dict_vazio = dict() "
   ]
  },
  {
   "cell_type": "code",
   "execution_count": 2,
   "id": "956c8f9f",
   "metadata": {},
   "outputs": [
    {
     "data": {
      "text/plain": [
       "{'pai': 'homer', 'mom': 'marge', 'size': 6}"
      ]
     },
     "execution_count": 2,
     "metadata": {},
     "output_type": "execute_result"
    }
   ],
   "source": [
    "#criando dicionário\n",
    "familia = {'pai':'homer','mãe':'marge','size':6}\n",
    "familia = dict(pai='homer', mom='marge', size=6)\n",
    "familia"
   ]
  },
  {
   "cell_type": "code",
   "execution_count": 3,
   "id": "30916d7b",
   "metadata": {},
   "outputs": [
    {
     "data": {
      "text/plain": [
       "{'pai': 'homer', 'mom': 'marge', 'size': 6}"
      ]
     },
     "execution_count": 3,
     "metadata": {},
     "output_type": "execute_result"
    }
   ],
   "source": [
    "#convertendo lista de tuplas em dicionário\n",
    "lista_de_tupla = [('pai','homer'),('mãe','marge'),('size',6)]\n",
    "familia = dict(lista_de_tupla)\n",
    "familia"
   ]
  },
  {
   "cell_type": "markdown",
   "id": "c26be6ae",
   "metadata": {},
   "source": [
    "Examinando um dicionário:"
   ]
  },
  {
   "cell_type": "code",
   "execution_count": 4,
   "id": "3fb3127f",
   "metadata": {},
   "outputs": [
    {
     "data": {
      "text/plain": [
       "'homer'"
      ]
     },
     "execution_count": 4,
     "metadata": {},
     "output_type": "execute_result"
    }
   ],
   "source": [
    "#passar a chave e retorna o valor\n",
    "familia['pai']"
   ]
  },
  {
   "cell_type": "code",
   "execution_count": 5,
   "id": "378db2f3",
   "metadata": {},
   "outputs": [
    {
     "data": {
      "text/plain": [
       "3"
      ]
     },
     "execution_count": 5,
     "metadata": {},
     "output_type": "execute_result"
    }
   ],
   "source": [
    "#retornando quantidade de pares de valores-chave\n",
    "len(familia)"
   ]
  },
  {
   "cell_type": "code",
   "execution_count": 6,
   "id": "ebe6f529",
   "metadata": {},
   "outputs": [
    {
     "data": {
      "text/plain": [
       "False"
      ]
     },
     "execution_count": 6,
     "metadata": {},
     "output_type": "execute_result"
    }
   ],
   "source": [
    "#checar se a chave existe no dicionário\n",
    "'mãe' in familia"
   ]
  },
  {
   "cell_type": "code",
   "execution_count": null,
   "id": "1fe9f402",
   "metadata": {},
   "outputs": [],
   "source": []
  }
 ],
 "metadata": {
  "kernelspec": {
   "display_name": "Python 3 (ipykernel)",
   "language": "python",
   "name": "python3"
  },
  "language_info": {
   "codemirror_mode": {
    "name": "ipython",
    "version": 3
   },
   "file_extension": ".py",
   "mimetype": "text/x-python",
   "name": "python",
   "nbconvert_exporter": "python",
   "pygments_lexer": "ipython3",
   "version": "3.9.7"
  }
 },
 "nbformat": 4,
 "nbformat_minor": 5
}
