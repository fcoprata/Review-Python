{
 "cells": [
  {
   "cell_type": "markdown",
   "id": "440f6c17",
   "metadata": {},
   "source": [
    "# Analisando as iris"
   ]
  },
  {
   "cell_type": "markdown",
   "id": "589ac0e6",
   "metadata": {},
   "source": [
    "#### Importações"
   ]
  },
  {
   "cell_type": "code",
   "execution_count": 3,
   "id": "1b87b4ff",
   "metadata": {},
   "outputs": [],
   "source": [
    "import pandas as pd\n",
    "import numpy as np"
   ]
  },
  {
   "cell_type": "markdown",
   "id": "3dd99f86",
   "metadata": {},
   "source": [
    "#### Plotagens de dados "
   ]
  },
  {
   "cell_type": "code",
   "execution_count": 4,
   "id": "bc9fcb0a",
   "metadata": {},
   "outputs": [],
   "source": [
    "cols = ['sepal_length','sepal_width','petal_lenght','petal_width','class']\n",
    "df = pd.read_csv(\"Dataset\\iris (1).data\", header=None, names=cols)"
   ]
  },
  {
   "cell_type": "code",
   "execution_count": 5,
   "id": "fd95070b",
   "metadata": {},
   "outputs": [
    {
     "data": {
      "text/html": [
       "<div>\n",
       "<style scoped>\n",
       "    .dataframe tbody tr th:only-of-type {\n",
       "        vertical-align: middle;\n",
       "    }\n",
       "\n",
       "    .dataframe tbody tr th {\n",
       "        vertical-align: top;\n",
       "    }\n",
       "\n",
       "    .dataframe thead th {\n",
       "        text-align: right;\n",
       "    }\n",
       "</style>\n",
       "<table border=\"1\" class=\"dataframe\">\n",
       "  <thead>\n",
       "    <tr style=\"text-align: right;\">\n",
       "      <th></th>\n",
       "      <th>sepal_length</th>\n",
       "      <th>sepal_width</th>\n",
       "      <th>petal_lenght</th>\n",
       "      <th>petal_width</th>\n",
       "      <th>class</th>\n",
       "    </tr>\n",
       "  </thead>\n",
       "  <tbody>\n",
       "    <tr>\n",
       "      <th>0</th>\n",
       "      <td>5.1</td>\n",
       "      <td>3.5</td>\n",
       "      <td>1.4</td>\n",
       "      <td>0.2</td>\n",
       "      <td>Iris-setosa</td>\n",
       "    </tr>\n",
       "    <tr>\n",
       "      <th>1</th>\n",
       "      <td>4.9</td>\n",
       "      <td>3.0</td>\n",
       "      <td>1.4</td>\n",
       "      <td>0.2</td>\n",
       "      <td>Iris-setosa</td>\n",
       "    </tr>\n",
       "    <tr>\n",
       "      <th>2</th>\n",
       "      <td>4.7</td>\n",
       "      <td>3.2</td>\n",
       "      <td>1.3</td>\n",
       "      <td>0.2</td>\n",
       "      <td>Iris-setosa</td>\n",
       "    </tr>\n",
       "    <tr>\n",
       "      <th>3</th>\n",
       "      <td>4.6</td>\n",
       "      <td>3.1</td>\n",
       "      <td>1.5</td>\n",
       "      <td>0.2</td>\n",
       "      <td>Iris-setosa</td>\n",
       "    </tr>\n",
       "    <tr>\n",
       "      <th>4</th>\n",
       "      <td>5.0</td>\n",
       "      <td>3.6</td>\n",
       "      <td>1.4</td>\n",
       "      <td>0.2</td>\n",
       "      <td>Iris-setosa</td>\n",
       "    </tr>\n",
       "    <tr>\n",
       "      <th>...</th>\n",
       "      <td>...</td>\n",
       "      <td>...</td>\n",
       "      <td>...</td>\n",
       "      <td>...</td>\n",
       "      <td>...</td>\n",
       "    </tr>\n",
       "    <tr>\n",
       "      <th>145</th>\n",
       "      <td>6.7</td>\n",
       "      <td>3.0</td>\n",
       "      <td>5.2</td>\n",
       "      <td>2.3</td>\n",
       "      <td>Iris-virginica</td>\n",
       "    </tr>\n",
       "    <tr>\n",
       "      <th>146</th>\n",
       "      <td>6.3</td>\n",
       "      <td>2.5</td>\n",
       "      <td>5.0</td>\n",
       "      <td>1.9</td>\n",
       "      <td>Iris-virginica</td>\n",
       "    </tr>\n",
       "    <tr>\n",
       "      <th>147</th>\n",
       "      <td>6.5</td>\n",
       "      <td>3.0</td>\n",
       "      <td>5.2</td>\n",
       "      <td>2.0</td>\n",
       "      <td>Iris-virginica</td>\n",
       "    </tr>\n",
       "    <tr>\n",
       "      <th>148</th>\n",
       "      <td>6.2</td>\n",
       "      <td>3.4</td>\n",
       "      <td>5.4</td>\n",
       "      <td>2.3</td>\n",
       "      <td>Iris-virginica</td>\n",
       "    </tr>\n",
       "    <tr>\n",
       "      <th>149</th>\n",
       "      <td>5.9</td>\n",
       "      <td>3.0</td>\n",
       "      <td>5.1</td>\n",
       "      <td>1.8</td>\n",
       "      <td>Iris-virginica</td>\n",
       "    </tr>\n",
       "  </tbody>\n",
       "</table>\n",
       "<p>150 rows × 5 columns</p>\n",
       "</div>"
      ],
      "text/plain": [
       "     sepal_length  sepal_width  petal_lenght  petal_width           class\n",
       "0             5.1          3.5           1.4          0.2     Iris-setosa\n",
       "1             4.9          3.0           1.4          0.2     Iris-setosa\n",
       "2             4.7          3.2           1.3          0.2     Iris-setosa\n",
       "3             4.6          3.1           1.5          0.2     Iris-setosa\n",
       "4             5.0          3.6           1.4          0.2     Iris-setosa\n",
       "..            ...          ...           ...          ...             ...\n",
       "145           6.7          3.0           5.2          2.3  Iris-virginica\n",
       "146           6.3          2.5           5.0          1.9  Iris-virginica\n",
       "147           6.5          3.0           5.2          2.0  Iris-virginica\n",
       "148           6.2          3.4           5.4          2.3  Iris-virginica\n",
       "149           5.9          3.0           5.1          1.8  Iris-virginica\n",
       "\n",
       "[150 rows x 5 columns]"
      ]
     },
     "execution_count": 5,
     "metadata": {},
     "output_type": "execute_result"
    }
   ],
   "source": [
    "df"
   ]
  },
  {
   "cell_type": "code",
   "execution_count": 6,
   "id": "2df9ca6c",
   "metadata": {},
   "outputs": [
    {
     "data": {
      "text/html": [
       "<div>\n",
       "<style scoped>\n",
       "    .dataframe tbody tr th:only-of-type {\n",
       "        vertical-align: middle;\n",
       "    }\n",
       "\n",
       "    .dataframe tbody tr th {\n",
       "        vertical-align: top;\n",
       "    }\n",
       "\n",
       "    .dataframe thead th {\n",
       "        text-align: right;\n",
       "    }\n",
       "</style>\n",
       "<table border=\"1\" class=\"dataframe\">\n",
       "  <thead>\n",
       "    <tr style=\"text-align: right;\">\n",
       "      <th></th>\n",
       "      <th>sepal_length</th>\n",
       "      <th>sepal_width</th>\n",
       "      <th>petal_lenght</th>\n",
       "      <th>petal_width</th>\n",
       "    </tr>\n",
       "  </thead>\n",
       "  <tbody>\n",
       "    <tr>\n",
       "      <th>mean</th>\n",
       "      <td>5.843333</td>\n",
       "      <td>3.054000</td>\n",
       "      <td>3.758667</td>\n",
       "      <td>1.198667</td>\n",
       "    </tr>\n",
       "    <tr>\n",
       "      <th>std</th>\n",
       "      <td>0.828066</td>\n",
       "      <td>0.433594</td>\n",
       "      <td>1.764420</td>\n",
       "      <td>0.763161</td>\n",
       "    </tr>\n",
       "    <tr>\n",
       "      <th>min</th>\n",
       "      <td>4.300000</td>\n",
       "      <td>2.000000</td>\n",
       "      <td>1.000000</td>\n",
       "      <td>0.100000</td>\n",
       "    </tr>\n",
       "    <tr>\n",
       "      <th>max</th>\n",
       "      <td>7.900000</td>\n",
       "      <td>4.400000</td>\n",
       "      <td>6.900000</td>\n",
       "      <td>2.500000</td>\n",
       "    </tr>\n",
       "  </tbody>\n",
       "</table>\n",
       "</div>"
      ],
      "text/plain": [
       "      sepal_length  sepal_width  petal_lenght  petal_width\n",
       "mean      5.843333     3.054000      3.758667     1.198667\n",
       "std       0.828066     0.433594      1.764420     0.763161\n",
       "min       4.300000     2.000000      1.000000     0.100000\n",
       "max       7.900000     4.400000      6.900000     2.500000"
      ]
     },
     "execution_count": 6,
     "metadata": {},
     "output_type": "execute_result"
    }
   ],
   "source": [
    "table1 = df.describe().loc[['mean','std','min','max'],:]\n",
    "table1"
   ]
  },
  {
   "cell_type": "code",
   "execution_count": 7,
   "id": "51811e9f",
   "metadata": {},
   "outputs": [
    {
     "data": {
      "text/plain": [
       "5.8"
      ]
     },
     "execution_count": 7,
     "metadata": {},
     "output_type": "execute_result"
    }
   ],
   "source": [
    "sl = np.median(df.iloc[:,0])\n",
    "sl"
   ]
  },
  {
   "cell_type": "code",
   "execution_count": 8,
   "id": "2132b689",
   "metadata": {},
   "outputs": [
    {
     "data": {
      "text/plain": [
       "3.0"
      ]
     },
     "execution_count": 8,
     "metadata": {},
     "output_type": "execute_result"
    }
   ],
   "source": [
    "sw = np.median(df.iloc[:,1])\n",
    "sw"
   ]
  },
  {
   "cell_type": "code",
   "execution_count": 9,
   "id": "5202edef",
   "metadata": {},
   "outputs": [
    {
     "data": {
      "text/plain": [
       "4.35"
      ]
     },
     "execution_count": 9,
     "metadata": {},
     "output_type": "execute_result"
    }
   ],
   "source": [
    "pl = np.median(df.iloc[:,2])\n",
    "pl"
   ]
  },
  {
   "cell_type": "code",
   "execution_count": 10,
   "id": "ed7b0411",
   "metadata": {},
   "outputs": [
    {
     "data": {
      "text/plain": [
       "1.3"
      ]
     },
     "execution_count": 10,
     "metadata": {},
     "output_type": "execute_result"
    }
   ],
   "source": [
    "pw = np.median(df.iloc[:,3])\n",
    "pw"
   ]
  },
  {
   "cell_type": "code",
   "execution_count": 11,
   "id": "1787c09a",
   "metadata": {},
   "outputs": [],
   "source": [
    "median = pd.DataFrame(\n",
    "{\"sepal_length\" : [sl],\n",
    "\"sepal_width\" : [sw],\n",
    "\"petal_lenght\" : [pl],\n",
    "\"petal_width\" : [pw]},\n",
    "index=[\"median\"])\n"
   ]
  },
  {
   "cell_type": "code",
   "execution_count": 12,
   "id": "bafd9240",
   "metadata": {},
   "outputs": [
    {
     "data": {
      "text/html": [
       "<div>\n",
       "<style scoped>\n",
       "    .dataframe tbody tr th:only-of-type {\n",
       "        vertical-align: middle;\n",
       "    }\n",
       "\n",
       "    .dataframe tbody tr th {\n",
       "        vertical-align: top;\n",
       "    }\n",
       "\n",
       "    .dataframe thead th {\n",
       "        text-align: right;\n",
       "    }\n",
       "</style>\n",
       "<table border=\"1\" class=\"dataframe\">\n",
       "  <thead>\n",
       "    <tr style=\"text-align: right;\">\n",
       "      <th></th>\n",
       "      <th>sepal_length</th>\n",
       "      <th>sepal_width</th>\n",
       "      <th>petal_lenght</th>\n",
       "      <th>petal_width</th>\n",
       "    </tr>\n",
       "  </thead>\n",
       "  <tbody>\n",
       "    <tr>\n",
       "      <th>median</th>\n",
       "      <td>5.8</td>\n",
       "      <td>3.0</td>\n",
       "      <td>4.35</td>\n",
       "      <td>1.3</td>\n",
       "    </tr>\n",
       "  </tbody>\n",
       "</table>\n",
       "</div>"
      ],
      "text/plain": [
       "        sepal_length  sepal_width  petal_lenght  petal_width\n",
       "median           5.8          3.0          4.35          1.3"
      ]
     },
     "execution_count": 12,
     "metadata": {},
     "output_type": "execute_result"
    }
   ],
   "source": [
    "median"
   ]
  },
  {
   "cell_type": "code",
   "execution_count": 13,
   "id": "3b7ffa1a",
   "metadata": {},
   "outputs": [
    {
     "data": {
      "text/html": [
       "<div>\n",
       "<style scoped>\n",
       "    .dataframe tbody tr th:only-of-type {\n",
       "        vertical-align: middle;\n",
       "    }\n",
       "\n",
       "    .dataframe tbody tr th {\n",
       "        vertical-align: top;\n",
       "    }\n",
       "\n",
       "    .dataframe thead th {\n",
       "        text-align: right;\n",
       "    }\n",
       "</style>\n",
       "<table border=\"1\" class=\"dataframe\">\n",
       "  <thead>\n",
       "    <tr style=\"text-align: right;\">\n",
       "      <th></th>\n",
       "      <th>sepal_length</th>\n",
       "      <th>sepal_width</th>\n",
       "      <th>petal_lenght</th>\n",
       "      <th>petal_width</th>\n",
       "    </tr>\n",
       "  </thead>\n",
       "  <tbody>\n",
       "    <tr>\n",
       "      <th>mean</th>\n",
       "      <td>5.843333</td>\n",
       "      <td>3.054000</td>\n",
       "      <td>3.758667</td>\n",
       "      <td>1.198667</td>\n",
       "    </tr>\n",
       "    <tr>\n",
       "      <th>std</th>\n",
       "      <td>0.828066</td>\n",
       "      <td>0.433594</td>\n",
       "      <td>1.764420</td>\n",
       "      <td>0.763161</td>\n",
       "    </tr>\n",
       "    <tr>\n",
       "      <th>min</th>\n",
       "      <td>4.300000</td>\n",
       "      <td>2.000000</td>\n",
       "      <td>1.000000</td>\n",
       "      <td>0.100000</td>\n",
       "    </tr>\n",
       "    <tr>\n",
       "      <th>max</th>\n",
       "      <td>7.900000</td>\n",
       "      <td>4.400000</td>\n",
       "      <td>6.900000</td>\n",
       "      <td>2.500000</td>\n",
       "    </tr>\n",
       "    <tr>\n",
       "      <th>median</th>\n",
       "      <td>5.800000</td>\n",
       "      <td>3.000000</td>\n",
       "      <td>4.350000</td>\n",
       "      <td>1.300000</td>\n",
       "    </tr>\n",
       "  </tbody>\n",
       "</table>\n",
       "</div>"
      ],
      "text/plain": [
       "        sepal_length  sepal_width  petal_lenght  petal_width\n",
       "mean        5.843333     3.054000      3.758667     1.198667\n",
       "std         0.828066     0.433594      1.764420     0.763161\n",
       "min         4.300000     2.000000      1.000000     0.100000\n",
       "max         7.900000     4.400000      6.900000     2.500000\n",
       "median      5.800000     3.000000      4.350000     1.300000"
      ]
     },
     "execution_count": 13,
     "metadata": {},
     "output_type": "execute_result"
    }
   ],
   "source": [
    "dfc = pd.concat([table1,median])\n",
    "dfc"
   ]
  },
  {
   "cell_type": "code",
   "execution_count": 14,
   "id": "db6dbbe4",
   "metadata": {},
   "outputs": [
    {
     "data": {
      "image/png": "[encoded data removed]",
      "text/plain": [
       "<Figure size 1080x720 with 1 Axes>"
      ]
     },
     "metadata": {
      "needs_background": "light"
     },
     "output_type": "display_data"
    }
   ],
   "source": [
    "dfc.plot(kind=\"bar\",figsize=(15,10), grid=True, fontsize=15);"
   ]
  },
  {
   "cell_type": "code",
   "execution_count": 15,
   "id": "18145dbe",
   "metadata": {},
   "outputs": [
    {
     "data": {
      "image/png": "[encoded data removed]",
      "text/plain": [
       "<Figure size 1080x720 with 1 Axes>"
      ]
     },
     "metadata": {
      "needs_background": "light"
     },
     "output_type": "display_data"
    }
   ],
   "source": [
    "dfc.boxplot(figsize=(15,10)); #comando para encontrar outliers"
   ]
  },
  {
   "cell_type": "code",
   "execution_count": 23,
   "id": "db3ff8d6",
   "metadata": {},
   "outputs": [
    {
     "name": "stdout",
     "output_type": "stream",
     "text": [
      "Desvio padrão:6.666243970162908\n",
      "Antes 5 150\n"
     ]
    }
   ],
   "source": [
    "val = dfc.iloc[:,:4]\n",
    "std_all = []\n",
    "\n",
    "for i in val:\n",
    "    for j in val[i]:\n",
    "        std_all.append(j)\n",
    "        \n",
    "std_data = np.std(std_all)*3\n",
    "print(f'Desvio padrão:{std_data}')\n",
    "\n",
    "vet_val = dfc.iloc[:,0:4].values.tolist()\n",
    "vet_class = df.iloc[:,4].values.tolist()\n",
    "print('Antes', len(vet_val),len(vet_class))\n"
   ]
  },
  {
   "cell_type": "code",
   "execution_count": 17,
   "id": "55875c17",
   "metadata": {},
   "outputs": [],
   "source": [
    "X = df.iloc[:,0:2].values.tolist()"
   ]
  },
  {
   "cell_type": "code",
   "execution_count": 18,
   "id": "79a6dc88",
   "metadata": {},
   "outputs": [
    {
     "data": {
      "text/plain": [
       "[['Iris-setosa'],\n",
       " ['Iris-setosa'],\n",
       " ['Iris-setosa'],\n",
       " ['Iris-setosa'],\n",
       " ['Iris-setosa'],\n",
       " ['Iris-setosa'],\n",
       " ['Iris-setosa'],\n",
       " ['Iris-setosa'],\n",
       " ['Iris-setosa'],\n",
       " ['Iris-setosa'],\n",
       " ['Iris-setosa'],\n",
       " ['Iris-setosa'],\n",
       " ['Iris-setosa'],\n",
       " ['Iris-setosa'],\n",
       " ['Iris-setosa'],\n",
       " ['Iris-setosa'],\n",
       " ['Iris-setosa'],\n",
       " ['Iris-setosa'],\n",
       " ['Iris-setosa'],\n",
       " ['Iris-setosa'],\n",
       " ['Iris-setosa'],\n",
       " ['Iris-setosa'],\n",
       " ['Iris-setosa'],\n",
       " ['Iris-setosa'],\n",
       " ['Iris-setosa'],\n",
       " ['Iris-setosa'],\n",
       " ['Iris-setosa'],\n",
       " ['Iris-setosa'],\n",
       " ['Iris-setosa'],\n",
       " ['Iris-setosa'],\n",
       " ['Iris-setosa'],\n",
       " ['Iris-setosa'],\n",
       " ['Iris-setosa'],\n",
       " ['Iris-setosa'],\n",
       " ['Iris-setosa'],\n",
       " ['Iris-setosa'],\n",
       " ['Iris-setosa'],\n",
       " ['Iris-setosa'],\n",
       " ['Iris-setosa'],\n",
       " ['Iris-setosa'],\n",
       " ['Iris-setosa'],\n",
       " ['Iris-setosa'],\n",
       " ['Iris-setosa'],\n",
       " ['Iris-setosa'],\n",
       " ['Iris-setosa'],\n",
       " ['Iris-setosa'],\n",
       " ['Iris-setosa'],\n",
       " ['Iris-setosa'],\n",
       " ['Iris-setosa'],\n",
       " ['Iris-setosa'],\n",
       " ['Iris-versicolor'],\n",
       " ['Iris-versicolor'],\n",
       " ['Iris-versicolor'],\n",
       " ['Iris-versicolor'],\n",
       " ['Iris-versicolor'],\n",
       " ['Iris-versicolor'],\n",
       " ['Iris-versicolor'],\n",
       " ['Iris-versicolor'],\n",
       " ['Iris-versicolor'],\n",
       " ['Iris-versicolor'],\n",
       " ['Iris-versicolor'],\n",
       " ['Iris-versicolor'],\n",
       " ['Iris-versicolor'],\n",
       " ['Iris-versicolor'],\n",
       " ['Iris-versicolor'],\n",
       " ['Iris-versicolor'],\n",
       " ['Iris-versicolor'],\n",
       " ['Iris-versicolor'],\n",
       " ['Iris-versicolor'],\n",
       " ['Iris-versicolor'],\n",
       " ['Iris-versicolor'],\n",
       " ['Iris-versicolor'],\n",
       " ['Iris-versicolor'],\n",
       " ['Iris-versicolor'],\n",
       " ['Iris-versicolor'],\n",
       " ['Iris-versicolor'],\n",
       " ['Iris-versicolor'],\n",
       " ['Iris-versicolor'],\n",
       " ['Iris-versicolor'],\n",
       " ['Iris-versicolor'],\n",
       " ['Iris-versicolor'],\n",
       " ['Iris-versicolor'],\n",
       " ['Iris-versicolor'],\n",
       " ['Iris-versicolor'],\n",
       " ['Iris-versicolor'],\n",
       " ['Iris-versicolor'],\n",
       " ['Iris-versicolor'],\n",
       " ['Iris-versicolor'],\n",
       " ['Iris-versicolor'],\n",
       " ['Iris-versicolor'],\n",
       " ['Iris-versicolor'],\n",
       " ['Iris-versicolor'],\n",
       " ['Iris-versicolor'],\n",
       " ['Iris-versicolor'],\n",
       " ['Iris-versicolor'],\n",
       " ['Iris-versicolor'],\n",
       " ['Iris-versicolor'],\n",
       " ['Iris-versicolor'],\n",
       " ['Iris-versicolor'],\n",
       " ['Iris-versicolor'],\n",
       " ['Iris-virginica'],\n",
       " ['Iris-virginica'],\n",
       " ['Iris-virginica'],\n",
       " ['Iris-virginica'],\n",
       " ['Iris-virginica'],\n",
       " ['Iris-virginica'],\n",
       " ['Iris-virginica'],\n",
       " ['Iris-virginica'],\n",
       " ['Iris-virginica'],\n",
       " ['Iris-virginica'],\n",
       " ['Iris-virginica'],\n",
       " ['Iris-virginica'],\n",
       " ['Iris-virginica'],\n",
       " ['Iris-virginica'],\n",
       " ['Iris-virginica'],\n",
       " ['Iris-virginica'],\n",
       " ['Iris-virginica'],\n",
       " ['Iris-virginica'],\n",
       " ['Iris-virginica'],\n",
       " ['Iris-virginica'],\n",
       " ['Iris-virginica'],\n",
       " ['Iris-virginica'],\n",
       " ['Iris-virginica'],\n",
       " ['Iris-virginica'],\n",
       " ['Iris-virginica'],\n",
       " ['Iris-virginica'],\n",
       " ['Iris-virginica'],\n",
       " ['Iris-virginica'],\n",
       " ['Iris-virginica'],\n",
       " ['Iris-virginica'],\n",
       " ['Iris-virginica'],\n",
       " ['Iris-virginica'],\n",
       " ['Iris-virginica'],\n",
       " ['Iris-virginica'],\n",
       " ['Iris-virginica'],\n",
       " ['Iris-virginica'],\n",
       " ['Iris-virginica'],\n",
       " ['Iris-virginica'],\n",
       " ['Iris-virginica'],\n",
       " ['Iris-virginica'],\n",
       " ['Iris-virginica'],\n",
       " ['Iris-virginica'],\n",
       " ['Iris-virginica'],\n",
       " ['Iris-virginica'],\n",
       " ['Iris-virginica'],\n",
       " ['Iris-virginica'],\n",
       " ['Iris-virginica'],\n",
       " ['Iris-virginica'],\n",
       " ['Iris-virginica'],\n",
       " ['Iris-virginica']]"
      ]
     },
     "execution_count": 18,
     "metadata": {},
     "output_type": "execute_result"
    }
   ],
   "source": [
    "Y = df.iloc[:,-1:].values.tolist()\n",
    "Y"
   ]
  },
  {
   "cell_type": "code",
   "execution_count": 19,
   "id": "7e4a5118",
   "metadata": {},
   "outputs": [],
   "source": [
    "Z = df.iloc[:,2:4].values.tolist()"
   ]
  },
  {
   "cell_type": "code",
   "execution_count": 20,
   "id": "57811c38",
   "metadata": {},
   "outputs": [],
   "source": [
    "lista = []"
   ]
  },
  {
   "cell_type": "code",
   "execution_count": 21,
   "id": "9e6a7f4f",
   "metadata": {},
   "outputs": [],
   "source": [
    "for i in Y:\n",
    "    if (i[0] == 'Iris-setosa'):\n",
    "        lista.append(\"0\")\n",
    "    elif (i[0] == 'Iris-versicolor'):\n",
    "        lista.append(\"1\")\n",
    "    elif (i[0] == 'Iris-virginica'):\n",
    "        lista.append(\"2\")"
   ]
  },
  {
   "cell_type": "code",
   "execution_count": 22,
   "id": "0c588da5",
   "metadata": {},
   "outputs": [
    {
     "name": "stdout",
     "output_type": "stream",
     "text": [
      "['0', '0', '0', '0', '0', '0', '0', '0', '0', '0', '0', '0', '0', '0', '0', '0', '0', '0', '0', '0', '0', '0', '0', '0', '0', '0', '0', '0', '0', '0', '0', '0', '0', '0', '0', '0', '0', '0', '0', '0', '0', '0', '0', '0', '0', '0', '0', '0', '0', '0', '1', '1', '1', '1', '1', '1', '1', '1', '1', '1', '1', '1', '1', '1', '1', '1', '1', '1', '1', '1', '1', '1', '1', '1', '1', '1', '1', '1', '1', '1', '1', '1', '1', '1', '1', '1', '1', '1', '1', '1', '1', '1', '1', '1', '1', '1', '1', '1', '1', '1', '2', '2', '2', '2', '2', '2', '2', '2', '2', '2', '2', '2', '2', '2', '2', '2', '2', '2', '2', '2', '2', '2', '2', '2', '2', '2', '2', '2', '2', '2', '2', '2', '2', '2', '2', '2', '2', '2', '2', '2', '2', '2', '2', '2', '2', '2', '2', '2', '2', '2']\n"
     ]
    }
   ],
   "source": [
    "print(lista)"
   ]
  },
  {
   "cell_type": "code",
   "execution_count": null,
   "id": "045f0a69",
   "metadata": {},
   "outputs": [],
   "source": []
  },
  {
   "cell_type": "code",
   "execution_count": null,
   "id": "68b58aae",
   "metadata": {},
   "outputs": [],
   "source": []
  }
 ],
 "metadata": {
  "kernelspec": {
   "display_name": "Python 3 (ipykernel)",
   "language": "python",
   "name": "python3"
  },
  "language_info": {
   "codemirror_mode": {
    "name": "ipython",
    "version": 3
   },
   "file_extension": ".py",
   "mimetype": "text/x-python",
   "name": "python",
   "nbconvert_exporter": "python",
   "pygments_lexer": "ipython3",
   "version": "3.9.7"
  }
 },
 "nbformat": 4,
 "nbformat_minor": 5
}
